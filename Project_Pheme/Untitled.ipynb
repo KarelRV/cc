{
 "cells": [
  {
   "cell_type": "code",
   "execution_count": 2,
   "metadata": {
    "collapsed": false
   },
   "outputs": [
    {
     "name": "stdout",
     "output_type": "stream",
     "text": [
      "/Users/user/cred.yaml\n"
     ]
    },
    {
     "data": {
      "text/plain": [
       "{'db': {'charset': 'utf8mb4',\n",
       "  'db': 'Pheme',\n",
       "  'host': 'pheme.cenvzddeh7ne.eu-west-1.rds.amazonaws.com',\n",
       "  'password': '^d+L6s_yc<_TC%6',\n",
       "  'user': 'PhemeUES528'},\n",
       " 'twitter': {'access_secret': '4SzUyUbAbTePDOjet7cw6AAOWwV41Wy9mZzdJV6TCpgYT',\n",
       "  'access_token': '45810954-CGIPoVv7cSkYLG5XsXFXLv2B4p5yfLfg3uF7EFUcc',\n",
       "  'consumer_key': 'nYxXmA9B7MmpgRdQBzg9LZxCp',\n",
       "  'consumer_secret': 'cE5yAit3vEAIyQIyM69uGuSMAxjh9y8cPWXu7lyR8HF0EB02D4'}}"
      ]
     },
     "execution_count": 2,
     "metadata": {},
     "output_type": "execute_result"
    }
   ],
   "source": [
    "import os\n",
    "import yaml\n",
    "direct = \"/Users/user/\"\n",
    "x_file = open(os.path.join(direct, \"cred.yaml\"), \"r\")\n",
    "print(os.path.join(direct, \"cred.yaml\"))\n",
    "docs = yaml.load(x_file)\n",
    "charset = docs[\"db\"][\"charset\"]\n",
    "db = docs[\"db\"][\"db\"]\n",
    "host = docs[\"db\"][\"host\"]\n",
    "password = docs[\"db\"][\"password\"]\n",
    "user = docs[\"db\"][\"user\"]\n",
    "\n",
    "access_secret = docs[\"twitter\"][\"access_secret\"]\n",
    "access_token = docs[\"twitter\"][\"access_token\"]\n",
    "consumer_key = docs[\"twitter\"][\"consumer_key\"]\n",
    "consumer_secret = docs[\"twitter\"][\"consumer_secret\"]"
   ]
  },
  {
   "cell_type": "code",
   "execution_count": 10,
   "metadata": {
    "collapsed": false
   },
   "outputs": [
    {
     "data": {
      "text/plain": [
       "('utf8mb4',\n",
       " 'Pheme',\n",
       " 'pheme.cenvzddeh7ne.eu-west-1.rds.amazonaws.com',\n",
       " '^d+L6s_yc<_TC%6',\n",
       " 'PhemeUES528',\n",
       " '4SzUyUbAbTePDOjet7cw6AAOWwV41Wy9mZzdJV6TCpgYT',\n",
       " '45810954-CGIPoVv7cSkYLG5XsXFXLv2B4p5yfLfg3uF7EFUcc',\n",
       " 'nYxXmA9B7MmpgRdQBzg9LZxCp',\n",
       " 'cE5yAit3vEAIyQIyM69uGuSMAxjh9y8cPWXu7lyR8HF0EB02D4')"
      ]
     },
     "execution_count": 10,
     "metadata": {},
     "output_type": "execute_result"
    }
   ],
   "source": [
    "\n",
    "\n",
    "charset,db,host,password,user,access_secret,access_token,consumer_key,consumer_secret"
   ]
  }
 ],
 "metadata": {
  "kernelspec": {
   "display_name": "Python 3",
   "language": "python",
   "name": "python3"
  },
  "language_info": {
   "codemirror_mode": {
    "name": "ipython",
    "version": 3
   },
   "file_extension": ".py",
   "mimetype": "text/x-python",
   "name": "python",
   "nbconvert_exporter": "python",
   "pygments_lexer": "ipython3",
   "version": "3.5.2"
  }
 },
 "nbformat": 4,
 "nbformat_minor": 2
}
